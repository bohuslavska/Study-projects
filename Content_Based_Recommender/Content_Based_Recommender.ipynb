{
  "cells": [
    {
      "cell_type": "markdown",
      "metadata": {
        "id": "view-in-github",
        "colab_type": "text"
      },
      "source": [
        "<a href=\"https://colab.research.google.com/github/bohuslavska/Study-projects/blob/main/Content_Based_Recommender/Content_Based_Recommender.ipynb\" target=\"_parent\"><img src=\"https://colab.research.google.com/assets/colab-badge.svg\" alt=\"Open In Colab\"/></a>"
      ]
    },
    {
      "cell_type": "markdown",
      "source": [
        "#About the project"
      ],
      "metadata": {
        "id": "fvPzz6-ZJnAa"
      },
      "id": "fvPzz6-ZJnAa"
    },
    {
      "cell_type": "markdown",
      "source": [
        "This project was completed as a part of the Machine Learning Engineer course at an online school for programming, analytics, and data science *robot_dreams*. \n",
        "\n",
        "The aim of this project was to build a simple content-based recommender system.\n",
        "While doing this project, I learned how to\n",
        "\n",
        "*   preprocess text with the help of the NLTK library\n",
        "*   vectorize text with the help of CountVectorizer\n",
        "*   apply cosine similarity\n",
        "\n",
        "\n",
        "\n",
        "\n",
        "\n",
        "\n",
        "\n"
      ],
      "metadata": {
        "id": "aOsTNyHPJtYA"
      },
      "id": "aOsTNyHPJtYA"
    },
    {
      "cell_type": "markdown",
      "source": [
        "#Data preprocessing "
      ],
      "metadata": {
        "id": "kT0B4WNLQZdy"
      },
      "id": "kT0B4WNLQZdy"
    },
    {
      "cell_type": "code",
      "execution_count": 29,
      "id": "401e9e16",
      "metadata": {
        "id": "401e9e16",
        "colab": {
          "base_uri": "https://localhost:8080/"
        },
        "outputId": "d963f8a8-e3bd-4850-c526-692934b678ad"
      },
      "outputs": [
        {
          "output_type": "stream",
          "name": "stderr",
          "text": [
            "[nltk_data] Downloading package punkt to /root/nltk_data...\n",
            "[nltk_data]   Package punkt is already up-to-date!\n",
            "[nltk_data] Downloading package wordnet to /root/nltk_data...\n",
            "[nltk_data]   Package wordnet is already up-to-date!\n",
            "[nltk_data] Downloading package stopwords to /root/nltk_data...\n",
            "[nltk_data]   Unzipping corpora/stopwords.zip.\n"
          ]
        }
      ],
      "source": [
        "#Imports\n",
        "\n",
        "import string\n",
        "import pandas as pd\n",
        "import numpy as np\n",
        "\n",
        "import warnings\n",
        "warnings.filterwarnings(\"ignore\")\n",
        "\n",
        "import nltk\n",
        "nltk.download('punkt')\n",
        "nltk.download('wordnet')\n",
        "nltk.download('stopwords')\n",
        "from nltk.corpus import stopwords\n",
        "from nltk.stem import WordNetLemmatizer\n",
        "from nltk.tokenize import sent_tokenize, word_tokenize\n",
        "\n",
        "from sklearn.feature_extraction.text import CountVectorizer\n",
        "from sklearn.metrics.pairwise import cosine_similarity\n",
        "pd.set_option('display.max_colwidth', 500)\n",
        "import gradio as gr"
      ]
    },
    {
      "cell_type": "code",
      "source": [
        "from google.colab import drive\n",
        "drive.mount('/content/gdrive/')"
      ],
      "metadata": {
        "colab": {
          "base_uri": "https://localhost:8080/"
        },
        "id": "XtweOVEB3PvX",
        "outputId": "82381e95-3ffb-4ff3-b2b7-71a357b81ada"
      },
      "id": "XtweOVEB3PvX",
      "execution_count": 30,
      "outputs": [
        {
          "output_type": "stream",
          "name": "stdout",
          "text": [
            "Drive already mounted at /content/gdrive/; to attempt to forcibly remount, call drive.mount(\"/content/gdrive/\", force_remount=True).\n"
          ]
        }
      ]
    },
    {
      "cell_type": "code",
      "execution_count": 31,
      "id": "ab442759",
      "metadata": {
        "id": "ab442759",
        "outputId": "6cdd432e-766f-462e-a6dd-1863ac7c2e5f",
        "colab": {
          "base_uri": "https://localhost:8080/",
          "height": 737
        }
      },
      "outputs": [
        {
          "output_type": "execute_result",
          "data": {
            "text/plain": [
              "                         title  \\\n",
              "0                    Toy Story   \n",
              "1                      Jumanji   \n",
              "2             Grumpier Old Men   \n",
              "3            Waiting to Exhale   \n",
              "4  Father of the Bride Part II   \n",
              "5                         Heat   \n",
              "6                      Sabrina   \n",
              "7                 Tom and Huck   \n",
              "8                 Sudden Death   \n",
              "9                    GoldenEye   \n",
              "\n",
              "                                                                          tagline  \\\n",
              "0                                                                             NaN   \n",
              "1                                       Roll the dice and unleash the excitement!   \n",
              "2                            Still Yelling. Still Fighting. Still Ready for Love.   \n",
              "3  Friends are the people who let you be yourself... and never let you forget it.   \n",
              "4  Just When His World Is Back To Normal... He's In For The Surprise Of His Life!   \n",
              "5                                                        A Los Angeles Crime Saga   \n",
              "6            You are cordially invited to the most surprising merger of the year.   \n",
              "7                                                          The Original Bad Boys.   \n",
              "8                                                      Terror goes into overtime.   \n",
              "9                                            No limits. No fears. No substitutes.   \n",
              "\n",
              "                                                                                                                                                                                                                                                                                                                                                                                                                                                           overview  \n",
              "0                                                                                                                                                   Led by Woody, Andy's toys live happily in his room until Andy's birthday brings Buzz Lightyear onto the scene. Afraid of losing his place in Andy's heart, Woody plots against Buzz. But when circumstances separate Buzz and Woody from their owner, the duo eventually learns to put aside their differences.  \n",
              "1                                                       When siblings Judy and Peter discover an enchanted board game that opens the door to a magical world, they unwittingly invite Alan -- an adult who's been trapped inside the game for 26 years -- into their living room. Alan's only hope for freedom is to finish the game, which proves risky as all three find themselves running from giant rhinoceroses, evil monkeys and other terrifying creatures.  \n",
              "2                                                                                                                           A family wedding reignites the ancient feud between next-door neighbors and fishing buddies John and Max. Meanwhile, a sultry Italian divorcée opens a restaurant at the local bait shop, alarming the locals who worry she'll scare the fish away. But she's less interested in seafood than she is in cooking up a hot time with Max.  \n",
              "3                                                                                                                                                                                    Cheated on, mistreated and stepped on, the women are holding their breath, waiting for the elusive \"good man\" to break a string of less-than-stellar lovers. Friends and confidants Vannah, Bernie, Glo and Robin talk it all out, determined to find a better way to breathe.  \n",
              "4                                                                                                                                    Just when George Banks has recovered from his daughter's wedding, he receives the news that she's pregnant ... and that George's wife, Nina, is expecting too. He was planning on selling their home, but that's a plan that -- like George -- will have to change with the arrival of both a grandchild and a kid of his own.  \n",
              "5                                                                                                                   Obsessive master thief, Neil McCauley leads a top-notch crew on various insane heists throughout Los Angeles while a mentally unstable detective, Vincent Hanna pursues him without rest. Each man recognizes and respects the ability and the dedication of the other even though they are aware their cat-and-mouse game may end in violence.  \n",
              "6                                                                                                                                                                                                                                                                       An ugly duckling having undergone a remarkable change, still harbors feelings for her crush: a carefree playboy, but not before his business-focused brother has something to say about it.  \n",
              "7                                                                                                  A mischievous young boy, Tom Sawyer, witnesses a murder by the deadly Injun Joe. Tom becomes friends with Huckleberry Finn, a boy with no future and no family. Tom has to choose between honoring a friendship or honoring an oath because the town alcoholic is accused of the murder. Tom and Huck go through several adventures trying to retrieve evidence.  \n",
              "8  International action superstar Jean Claude Van Damme teams with Powers Boothe in a Tension-packed, suspense thriller, set against the back-drop of a Stanley Cup game.Van Damme portrays a father whose daughter is suddenly taken during a championship hockey game. With the captors demanding a billion dollars by game's end, Van Damme frantically sets a plan in motion to rescue his daughter and abort an impending explosion before the final buzzer...  \n",
              "9                                                                                                                                                                                                                                                                                   James Bond must unmask the mysterious head of the Janus Syndicate and prevent the leader from utilizing the GoldenEye weapons system to inflict devastating revenge on Britain.  "
            ],
            "text/html": [
              "\n",
              "  <div id=\"df-07f1e47e-916c-4746-8845-dc7589ed6afc\">\n",
              "    <div class=\"colab-df-container\">\n",
              "      <div>\n",
              "<style scoped>\n",
              "    .dataframe tbody tr th:only-of-type {\n",
              "        vertical-align: middle;\n",
              "    }\n",
              "\n",
              "    .dataframe tbody tr th {\n",
              "        vertical-align: top;\n",
              "    }\n",
              "\n",
              "    .dataframe thead th {\n",
              "        text-align: right;\n",
              "    }\n",
              "</style>\n",
              "<table border=\"1\" class=\"dataframe\">\n",
              "  <thead>\n",
              "    <tr style=\"text-align: right;\">\n",
              "      <th></th>\n",
              "      <th>title</th>\n",
              "      <th>tagline</th>\n",
              "      <th>overview</th>\n",
              "    </tr>\n",
              "  </thead>\n",
              "  <tbody>\n",
              "    <tr>\n",
              "      <th>0</th>\n",
              "      <td>Toy Story</td>\n",
              "      <td>NaN</td>\n",
              "      <td>Led by Woody, Andy's toys live happily in his room until Andy's birthday brings Buzz Lightyear onto the scene. Afraid of losing his place in Andy's heart, Woody plots against Buzz. But when circumstances separate Buzz and Woody from their owner, the duo eventually learns to put aside their differences.</td>\n",
              "    </tr>\n",
              "    <tr>\n",
              "      <th>1</th>\n",
              "      <td>Jumanji</td>\n",
              "      <td>Roll the dice and unleash the excitement!</td>\n",
              "      <td>When siblings Judy and Peter discover an enchanted board game that opens the door to a magical world, they unwittingly invite Alan -- an adult who's been trapped inside the game for 26 years -- into their living room. Alan's only hope for freedom is to finish the game, which proves risky as all three find themselves running from giant rhinoceroses, evil monkeys and other terrifying creatures.</td>\n",
              "    </tr>\n",
              "    <tr>\n",
              "      <th>2</th>\n",
              "      <td>Grumpier Old Men</td>\n",
              "      <td>Still Yelling. Still Fighting. Still Ready for Love.</td>\n",
              "      <td>A family wedding reignites the ancient feud between next-door neighbors and fishing buddies John and Max. Meanwhile, a sultry Italian divorcée opens a restaurant at the local bait shop, alarming the locals who worry she'll scare the fish away. But she's less interested in seafood than she is in cooking up a hot time with Max.</td>\n",
              "    </tr>\n",
              "    <tr>\n",
              "      <th>3</th>\n",
              "      <td>Waiting to Exhale</td>\n",
              "      <td>Friends are the people who let you be yourself... and never let you forget it.</td>\n",
              "      <td>Cheated on, mistreated and stepped on, the women are holding their breath, waiting for the elusive \"good man\" to break a string of less-than-stellar lovers. Friends and confidants Vannah, Bernie, Glo and Robin talk it all out, determined to find a better way to breathe.</td>\n",
              "    </tr>\n",
              "    <tr>\n",
              "      <th>4</th>\n",
              "      <td>Father of the Bride Part II</td>\n",
              "      <td>Just When His World Is Back To Normal... He's In For The Surprise Of His Life!</td>\n",
              "      <td>Just when George Banks has recovered from his daughter's wedding, he receives the news that she's pregnant ... and that George's wife, Nina, is expecting too. He was planning on selling their home, but that's a plan that -- like George -- will have to change with the arrival of both a grandchild and a kid of his own.</td>\n",
              "    </tr>\n",
              "    <tr>\n",
              "      <th>5</th>\n",
              "      <td>Heat</td>\n",
              "      <td>A Los Angeles Crime Saga</td>\n",
              "      <td>Obsessive master thief, Neil McCauley leads a top-notch crew on various insane heists throughout Los Angeles while a mentally unstable detective, Vincent Hanna pursues him without rest. Each man recognizes and respects the ability and the dedication of the other even though they are aware their cat-and-mouse game may end in violence.</td>\n",
              "    </tr>\n",
              "    <tr>\n",
              "      <th>6</th>\n",
              "      <td>Sabrina</td>\n",
              "      <td>You are cordially invited to the most surprising merger of the year.</td>\n",
              "      <td>An ugly duckling having undergone a remarkable change, still harbors feelings for her crush: a carefree playboy, but not before his business-focused brother has something to say about it.</td>\n",
              "    </tr>\n",
              "    <tr>\n",
              "      <th>7</th>\n",
              "      <td>Tom and Huck</td>\n",
              "      <td>The Original Bad Boys.</td>\n",
              "      <td>A mischievous young boy, Tom Sawyer, witnesses a murder by the deadly Injun Joe. Tom becomes friends with Huckleberry Finn, a boy with no future and no family. Tom has to choose between honoring a friendship or honoring an oath because the town alcoholic is accused of the murder. Tom and Huck go through several adventures trying to retrieve evidence.</td>\n",
              "    </tr>\n",
              "    <tr>\n",
              "      <th>8</th>\n",
              "      <td>Sudden Death</td>\n",
              "      <td>Terror goes into overtime.</td>\n",
              "      <td>International action superstar Jean Claude Van Damme teams with Powers Boothe in a Tension-packed, suspense thriller, set against the back-drop of a Stanley Cup game.Van Damme portrays a father whose daughter is suddenly taken during a championship hockey game. With the captors demanding a billion dollars by game's end, Van Damme frantically sets a plan in motion to rescue his daughter and abort an impending explosion before the final buzzer...</td>\n",
              "    </tr>\n",
              "    <tr>\n",
              "      <th>9</th>\n",
              "      <td>GoldenEye</td>\n",
              "      <td>No limits. No fears. No substitutes.</td>\n",
              "      <td>James Bond must unmask the mysterious head of the Janus Syndicate and prevent the leader from utilizing the GoldenEye weapons system to inflict devastating revenge on Britain.</td>\n",
              "    </tr>\n",
              "  </tbody>\n",
              "</table>\n",
              "</div>\n",
              "      <button class=\"colab-df-convert\" onclick=\"convertToInteractive('df-07f1e47e-916c-4746-8845-dc7589ed6afc')\"\n",
              "              title=\"Convert this dataframe to an interactive table.\"\n",
              "              style=\"display:none;\">\n",
              "        \n",
              "  <svg xmlns=\"http://www.w3.org/2000/svg\" height=\"24px\"viewBox=\"0 0 24 24\"\n",
              "       width=\"24px\">\n",
              "    <path d=\"M0 0h24v24H0V0z\" fill=\"none\"/>\n",
              "    <path d=\"M18.56 5.44l.94 2.06.94-2.06 2.06-.94-2.06-.94-.94-2.06-.94 2.06-2.06.94zm-11 1L8.5 8.5l.94-2.06 2.06-.94-2.06-.94L8.5 2.5l-.94 2.06-2.06.94zm10 10l.94 2.06.94-2.06 2.06-.94-2.06-.94-.94-2.06-.94 2.06-2.06.94z\"/><path d=\"M17.41 7.96l-1.37-1.37c-.4-.4-.92-.59-1.43-.59-.52 0-1.04.2-1.43.59L10.3 9.45l-7.72 7.72c-.78.78-.78 2.05 0 2.83L4 21.41c.39.39.9.59 1.41.59.51 0 1.02-.2 1.41-.59l7.78-7.78 2.81-2.81c.8-.78.8-2.07 0-2.86zM5.41 20L4 18.59l7.72-7.72 1.47 1.35L5.41 20z\"/>\n",
              "  </svg>\n",
              "      </button>\n",
              "      \n",
              "  <style>\n",
              "    .colab-df-container {\n",
              "      display:flex;\n",
              "      flex-wrap:wrap;\n",
              "      gap: 12px;\n",
              "    }\n",
              "\n",
              "    .colab-df-convert {\n",
              "      background-color: #E8F0FE;\n",
              "      border: none;\n",
              "      border-radius: 50%;\n",
              "      cursor: pointer;\n",
              "      display: none;\n",
              "      fill: #1967D2;\n",
              "      height: 32px;\n",
              "      padding: 0 0 0 0;\n",
              "      width: 32px;\n",
              "    }\n",
              "\n",
              "    .colab-df-convert:hover {\n",
              "      background-color: #E2EBFA;\n",
              "      box-shadow: 0px 1px 2px rgba(60, 64, 67, 0.3), 0px 1px 3px 1px rgba(60, 64, 67, 0.15);\n",
              "      fill: #174EA6;\n",
              "    }\n",
              "\n",
              "    [theme=dark] .colab-df-convert {\n",
              "      background-color: #3B4455;\n",
              "      fill: #D2E3FC;\n",
              "    }\n",
              "\n",
              "    [theme=dark] .colab-df-convert:hover {\n",
              "      background-color: #434B5C;\n",
              "      box-shadow: 0px 1px 3px 1px rgba(0, 0, 0, 0.15);\n",
              "      filter: drop-shadow(0px 1px 2px rgba(0, 0, 0, 0.3));\n",
              "      fill: #FFFFFF;\n",
              "    }\n",
              "  </style>\n",
              "\n",
              "      <script>\n",
              "        const buttonEl =\n",
              "          document.querySelector('#df-07f1e47e-916c-4746-8845-dc7589ed6afc button.colab-df-convert');\n",
              "        buttonEl.style.display =\n",
              "          google.colab.kernel.accessAllowed ? 'block' : 'none';\n",
              "\n",
              "        async function convertToInteractive(key) {\n",
              "          const element = document.querySelector('#df-07f1e47e-916c-4746-8845-dc7589ed6afc');\n",
              "          const dataTable =\n",
              "            await google.colab.kernel.invokeFunction('convertToInteractive',\n",
              "                                                     [key], {});\n",
              "          if (!dataTable) return;\n",
              "\n",
              "          const docLinkHtml = 'Like what you see? Visit the ' +\n",
              "            '<a target=\"_blank\" href=https://colab.research.google.com/notebooks/data_table.ipynb>data table notebook</a>'\n",
              "            + ' to learn more about interactive tables.';\n",
              "          element.innerHTML = '';\n",
              "          dataTable['output_type'] = 'display_data';\n",
              "          await google.colab.output.renderOutput(dataTable, element);\n",
              "          const docLink = document.createElement('div');\n",
              "          docLink.innerHTML = docLinkHtml;\n",
              "          element.appendChild(docLink);\n",
              "        }\n",
              "      </script>\n",
              "    </div>\n",
              "  </div>\n",
              "  "
            ]
          },
          "metadata": {},
          "execution_count": 31
        }
      ],
      "source": [
        "#Let's read the movies_metadata dataset and choose three columns with text data.\n",
        "\n",
        "df_meta = pd.read_csv('/content/gdrive/MyDrive/ML_projects/movies_metadata.csv')\n",
        "df_content = df_meta[['title','tagline', 'overview']]\n",
        "df_content.head(10)"
      ]
    },
    {
      "cell_type": "code",
      "execution_count": 32,
      "id": "0c92da18",
      "metadata": {
        "id": "0c92da18",
        "outputId": "284b2569-dc21-4c73-8ec3-62494f36bcce",
        "colab": {
          "base_uri": "https://localhost:8080/"
        }
      },
      "outputs": [
        {
          "output_type": "execute_result",
          "data": {
            "text/plain": [
              "title           6\n",
              "tagline     25054\n",
              "overview      954\n",
              "dtype: int64"
            ]
          },
          "metadata": {},
          "execution_count": 32
        }
      ],
      "source": [
        "#Let's check missing values. \n",
        "\n",
        "df_content.isnull().sum()"
      ]
    },
    {
      "cell_type": "code",
      "execution_count": 33,
      "id": "b3874f89",
      "metadata": {
        "id": "b3874f89",
        "outputId": "f76e46aa-1460-429f-9f1b-cc4dcb36362b",
        "colab": {
          "base_uri": "https://localhost:8080/"
        }
      },
      "outputs": [
        {
          "output_type": "execute_result",
          "data": {
            "text/plain": [
              "title       0\n",
              "tagline     0\n",
              "overview    0\n",
              "dtype: int64"
            ]
          },
          "metadata": {},
          "execution_count": 33
        }
      ],
      "source": [
        "#Let's get rid of missing values.\n",
        "\n",
        "filtered_df = df_content[df_content[['overview', 'title']].notna().all(1)]\n",
        "filtered_df.loc[:, 'tagline'].replace(np.nan, '', inplace = True)\n",
        "filtered_df.isnull().sum()"
      ]
    },
    {
      "cell_type": "code",
      "source": [
        "#Also, let's drop some duplicates.\n",
        "\n",
        "print(filtered_df.shape)\n",
        "filtered_df.drop_duplicates(inplace=True)\n",
        "print(filtered_df.shape)"
      ],
      "metadata": {
        "colab": {
          "base_uri": "https://localhost:8080/"
        },
        "id": "mh9ybi1hDJ94",
        "outputId": "75f9afba-fc27-46a2-84fb-cb7fbfae268c"
      },
      "id": "mh9ybi1hDJ94",
      "execution_count": 34,
      "outputs": [
        {
          "output_type": "stream",
          "name": "stdout",
          "text": [
            "(44506, 3)\n",
            "(44471, 3)\n"
          ]
        }
      ]
    },
    {
      "cell_type": "code",
      "execution_count": 35,
      "id": "f8d4df57",
      "metadata": {
        "id": "f8d4df57"
      },
      "outputs": [],
      "source": [
        "#Now let's create a dataset with two columns ('title' and 'text') and choose 10 000 samples for convenience. \n",
        "\n",
        "filtered_df['text'] =  filtered_df['tagline'] + ' ' + filtered_df['overview']\n",
        "df_final = pd.concat([filtered_df['title'], filtered_df['text']], axis = 1)\n",
        "\n",
        "df_final = df_final.sample(n = 10000)\n",
        "df_final.reset_index(inplace = True, drop = True)"
      ]
    },
    {
      "cell_type": "markdown",
      "source": [
        "#Text preprocessing and vectorization"
      ],
      "metadata": {
        "id": "5NNK9V8PNOb1"
      },
      "id": "5NNK9V8PNOb1"
    },
    {
      "cell_type": "code",
      "execution_count": 36,
      "id": "f614eb41",
      "metadata": {
        "id": "f614eb41",
        "outputId": "c4a38fe9-167e-4024-8525-7848eadbeed4",
        "colab": {
          "base_uri": "https://localhost:8080/",
          "height": 676
        }
      },
      "outputs": [
        {
          "output_type": "execute_result",
          "data": {
            "text/plain": [
              "                      title  \\\n",
              "0             Still Walking   \n",
              "1                     Heidi   \n",
              "2                The Racket   \n",
              "3                  Re-cycle   \n",
              "4                   The Sun   \n",
              "...                     ...   \n",
              "9995            The Snowman   \n",
              "9996      One Man's Journey   \n",
              "9997        In God We Teach   \n",
              "9998         Special Forces   \n",
              "9999  The Two Mrs. Carrolls   \n",
              "\n",
              "                                                                                                                                                                                                                                                                                                                                                                                                                                                                                                                     text  \n",
              "0                                                                                                                                                                                                         twelve year beloved eldest son junpei drowned saving stranger 's life kyohei toshiko welcome surviving child home family reunion younger son ryota still feel parent resent n't one died new wife yukari awkwardly meeting rest family first time daughter chinami strain fill uncomfortable pause forced cheer  \n",
              "1                                                                                                                                                                                                   heidi orphaned girl initially raised aunt dete maienfeld switzerland order get job frankfurt dete brings 5-year-old heidi grandfather ha odds villager year life seclusion alm first resents heidi 's arrival girl manages penetrate harsh exterior subsequently ha delightful stay best friend young peter goat-herd  \n",
              "2                                                                                                                                                                                                                                                                                                                                                                                                                                                          silent film renegade police captain set catch sadistic mob bos  \n",
              "3                                                                                                                                                                                                                                                                               ting-yin young novelist struggling come followup best-selling trilogy romance novel drafting first chapter stop deletes file computer start seeing strange unexplainable thing find experiencing supernatural event described novel-to-be  \n",
              "4                                                                                                                                                                                                                                                    sun russian сóлнце solntse 2005 russian biographical film depicting japanese emperor shōwa hirohito final day world war ii film third drama director aleksandr sokurov 's trilogy included taurus soviet union 's vladimir lenin moloch nazi germany 's adolf hitler  \n",
              "...                                                                                                                                                                                                                                                                                                                                                                                                                                                                                                                   ...  \n",
              "9995  lost father 30 year old conspiracy daughter 's journey uncover truth 1978 jimmy graham thirty four year old happily married father two scored dream job operation deepfreeze training american scientist survival skill antarctica left december year three month later arrived back agitated paranoid said ice stumbled onto secret american nuclear site cia given chemical lobotomy keep quiet jimmy rapidly descended schizophrenia behaviour became frightening wife france fled safety taking two child se...  \n",
              "9996                                                                                                                        dr. eli watt widower come small town considering failure attempt meaningful career new york raise son jimmy well letty baby whose mother ha died childbirth whose father blame watt abandon child watt dream returning research study always something get way epidemic child 's need need generally ungrateful patient passing year doe come find future n't past n't quite failure believed  \n",
              "9997                                                                                                                                                                                                                                                     story kearny nj high school student secretly recorded history teacher class accused proselytizing “ god teach ” story matthew laclair student kearny nj public high school secretly recorded history teacher david paszkiewicz class accused proselytizing jesus  \n",
              "9998                                       survival honor sacrifice afghanistan war correspondent elsa casanova taken hostage taliban faced imminent execution special force unit dispatched free world ’ breathtaking yet hostile landscape relentless pursuit begin kidnapper intention letting prey escape group soldier risk life pursuit single aim – bring home alive strong independent woman men duty thrown together forced confront situation great danger inextricably bind – emotionally violently intimately  \n",
              "9999                                                                                                                                                                                                    never try deceive two woman struggling artist geoffrey carroll meet sally holiday country romance develops doe n't tell 's already married suffering mental illness geoffrey return home paint impression wife angel death promptly poison marries sally find strange urge paint angel death history seems repeat  \n",
              "\n",
              "[10000 rows x 2 columns]"
            ],
            "text/html": [
              "\n",
              "  <div id=\"df-fd01e16c-5f5d-423a-bc66-dc65d644c9d1\">\n",
              "    <div class=\"colab-df-container\">\n",
              "      <div>\n",
              "<style scoped>\n",
              "    .dataframe tbody tr th:only-of-type {\n",
              "        vertical-align: middle;\n",
              "    }\n",
              "\n",
              "    .dataframe tbody tr th {\n",
              "        vertical-align: top;\n",
              "    }\n",
              "\n",
              "    .dataframe thead th {\n",
              "        text-align: right;\n",
              "    }\n",
              "</style>\n",
              "<table border=\"1\" class=\"dataframe\">\n",
              "  <thead>\n",
              "    <tr style=\"text-align: right;\">\n",
              "      <th></th>\n",
              "      <th>title</th>\n",
              "      <th>text</th>\n",
              "    </tr>\n",
              "  </thead>\n",
              "  <tbody>\n",
              "    <tr>\n",
              "      <th>0</th>\n",
              "      <td>Still Walking</td>\n",
              "      <td>twelve year beloved eldest son junpei drowned saving stranger 's life kyohei toshiko welcome surviving child home family reunion younger son ryota still feel parent resent n't one died new wife yukari awkwardly meeting rest family first time daughter chinami strain fill uncomfortable pause forced cheer</td>\n",
              "    </tr>\n",
              "    <tr>\n",
              "      <th>1</th>\n",
              "      <td>Heidi</td>\n",
              "      <td>heidi orphaned girl initially raised aunt dete maienfeld switzerland order get job frankfurt dete brings 5-year-old heidi grandfather ha odds villager year life seclusion alm first resents heidi 's arrival girl manages penetrate harsh exterior subsequently ha delightful stay best friend young peter goat-herd</td>\n",
              "    </tr>\n",
              "    <tr>\n",
              "      <th>2</th>\n",
              "      <td>The Racket</td>\n",
              "      <td>silent film renegade police captain set catch sadistic mob bos</td>\n",
              "    </tr>\n",
              "    <tr>\n",
              "      <th>3</th>\n",
              "      <td>Re-cycle</td>\n",
              "      <td>ting-yin young novelist struggling come followup best-selling trilogy romance novel drafting first chapter stop deletes file computer start seeing strange unexplainable thing find experiencing supernatural event described novel-to-be</td>\n",
              "    </tr>\n",
              "    <tr>\n",
              "      <th>4</th>\n",
              "      <td>The Sun</td>\n",
              "      <td>sun russian сóлнце solntse 2005 russian biographical film depicting japanese emperor shōwa hirohito final day world war ii film third drama director aleksandr sokurov 's trilogy included taurus soviet union 's vladimir lenin moloch nazi germany 's adolf hitler</td>\n",
              "    </tr>\n",
              "    <tr>\n",
              "      <th>...</th>\n",
              "      <td>...</td>\n",
              "      <td>...</td>\n",
              "    </tr>\n",
              "    <tr>\n",
              "      <th>9995</th>\n",
              "      <td>The Snowman</td>\n",
              "      <td>lost father 30 year old conspiracy daughter 's journey uncover truth 1978 jimmy graham thirty four year old happily married father two scored dream job operation deepfreeze training american scientist survival skill antarctica left december year three month later arrived back agitated paranoid said ice stumbled onto secret american nuclear site cia given chemical lobotomy keep quiet jimmy rapidly descended schizophrenia behaviour became frightening wife france fled safety taking two child se...</td>\n",
              "    </tr>\n",
              "    <tr>\n",
              "      <th>9996</th>\n",
              "      <td>One Man's Journey</td>\n",
              "      <td>dr. eli watt widower come small town considering failure attempt meaningful career new york raise son jimmy well letty baby whose mother ha died childbirth whose father blame watt abandon child watt dream returning research study always something get way epidemic child 's need need generally ungrateful patient passing year doe come find future n't past n't quite failure believed</td>\n",
              "    </tr>\n",
              "    <tr>\n",
              "      <th>9997</th>\n",
              "      <td>In God We Teach</td>\n",
              "      <td>story kearny nj high school student secretly recorded history teacher class accused proselytizing “ god teach ” story matthew laclair student kearny nj public high school secretly recorded history teacher david paszkiewicz class accused proselytizing jesus</td>\n",
              "    </tr>\n",
              "    <tr>\n",
              "      <th>9998</th>\n",
              "      <td>Special Forces</td>\n",
              "      <td>survival honor sacrifice afghanistan war correspondent elsa casanova taken hostage taliban faced imminent execution special force unit dispatched free world ’ breathtaking yet hostile landscape relentless pursuit begin kidnapper intention letting prey escape group soldier risk life pursuit single aim – bring home alive strong independent woman men duty thrown together forced confront situation great danger inextricably bind – emotionally violently intimately</td>\n",
              "    </tr>\n",
              "    <tr>\n",
              "      <th>9999</th>\n",
              "      <td>The Two Mrs. Carrolls</td>\n",
              "      <td>never try deceive two woman struggling artist geoffrey carroll meet sally holiday country romance develops doe n't tell 's already married suffering mental illness geoffrey return home paint impression wife angel death promptly poison marries sally find strange urge paint angel death history seems repeat</td>\n",
              "    </tr>\n",
              "  </tbody>\n",
              "</table>\n",
              "<p>10000 rows × 2 columns</p>\n",
              "</div>\n",
              "      <button class=\"colab-df-convert\" onclick=\"convertToInteractive('df-fd01e16c-5f5d-423a-bc66-dc65d644c9d1')\"\n",
              "              title=\"Convert this dataframe to an interactive table.\"\n",
              "              style=\"display:none;\">\n",
              "        \n",
              "  <svg xmlns=\"http://www.w3.org/2000/svg\" height=\"24px\"viewBox=\"0 0 24 24\"\n",
              "       width=\"24px\">\n",
              "    <path d=\"M0 0h24v24H0V0z\" fill=\"none\"/>\n",
              "    <path d=\"M18.56 5.44l.94 2.06.94-2.06 2.06-.94-2.06-.94-.94-2.06-.94 2.06-2.06.94zm-11 1L8.5 8.5l.94-2.06 2.06-.94-2.06-.94L8.5 2.5l-.94 2.06-2.06.94zm10 10l.94 2.06.94-2.06 2.06-.94-2.06-.94-.94-2.06-.94 2.06-2.06.94z\"/><path d=\"M17.41 7.96l-1.37-1.37c-.4-.4-.92-.59-1.43-.59-.52 0-1.04.2-1.43.59L10.3 9.45l-7.72 7.72c-.78.78-.78 2.05 0 2.83L4 21.41c.39.39.9.59 1.41.59.51 0 1.02-.2 1.41-.59l7.78-7.78 2.81-2.81c.8-.78.8-2.07 0-2.86zM5.41 20L4 18.59l7.72-7.72 1.47 1.35L5.41 20z\"/>\n",
              "  </svg>\n",
              "      </button>\n",
              "      \n",
              "  <style>\n",
              "    .colab-df-container {\n",
              "      display:flex;\n",
              "      flex-wrap:wrap;\n",
              "      gap: 12px;\n",
              "    }\n",
              "\n",
              "    .colab-df-convert {\n",
              "      background-color: #E8F0FE;\n",
              "      border: none;\n",
              "      border-radius: 50%;\n",
              "      cursor: pointer;\n",
              "      display: none;\n",
              "      fill: #1967D2;\n",
              "      height: 32px;\n",
              "      padding: 0 0 0 0;\n",
              "      width: 32px;\n",
              "    }\n",
              "\n",
              "    .colab-df-convert:hover {\n",
              "      background-color: #E2EBFA;\n",
              "      box-shadow: 0px 1px 2px rgba(60, 64, 67, 0.3), 0px 1px 3px 1px rgba(60, 64, 67, 0.15);\n",
              "      fill: #174EA6;\n",
              "    }\n",
              "\n",
              "    [theme=dark] .colab-df-convert {\n",
              "      background-color: #3B4455;\n",
              "      fill: #D2E3FC;\n",
              "    }\n",
              "\n",
              "    [theme=dark] .colab-df-convert:hover {\n",
              "      background-color: #434B5C;\n",
              "      box-shadow: 0px 1px 3px 1px rgba(0, 0, 0, 0.15);\n",
              "      filter: drop-shadow(0px 1px 2px rgba(0, 0, 0, 0.3));\n",
              "      fill: #FFFFFF;\n",
              "    }\n",
              "  </style>\n",
              "\n",
              "      <script>\n",
              "        const buttonEl =\n",
              "          document.querySelector('#df-fd01e16c-5f5d-423a-bc66-dc65d644c9d1 button.colab-df-convert');\n",
              "        buttonEl.style.display =\n",
              "          google.colab.kernel.accessAllowed ? 'block' : 'none';\n",
              "\n",
              "        async function convertToInteractive(key) {\n",
              "          const element = document.querySelector('#df-fd01e16c-5f5d-423a-bc66-dc65d644c9d1');\n",
              "          const dataTable =\n",
              "            await google.colab.kernel.invokeFunction('convertToInteractive',\n",
              "                                                     [key], {});\n",
              "          if (!dataTable) return;\n",
              "\n",
              "          const docLinkHtml = 'Like what you see? Visit the ' +\n",
              "            '<a target=\"_blank\" href=https://colab.research.google.com/notebooks/data_table.ipynb>data table notebook</a>'\n",
              "            + ' to learn more about interactive tables.';\n",
              "          element.innerHTML = '';\n",
              "          dataTable['output_type'] = 'display_data';\n",
              "          await google.colab.output.renderOutput(dataTable, element);\n",
              "          const docLink = document.createElement('div');\n",
              "          docLink.innerHTML = docLinkHtml;\n",
              "          element.appendChild(docLink);\n",
              "        }\n",
              "      </script>\n",
              "    </div>\n",
              "  </div>\n",
              "  "
            ]
          },
          "metadata": {},
          "execution_count": 36
        }
      ],
      "source": [
        "#Let's make some text preprocessing.\n",
        "\n",
        "def text_preprocessing(text_data):\n",
        "    tknzd_text = word_tokenize(text_data.lower())\n",
        "    wordnet_lemmatizer = WordNetLemmatizer()\n",
        "    lemma_text = [wordnet_lemmatizer.lemmatize(word) for word in tknzd_text]\n",
        "    \n",
        "    no_punct = [i for i in lemma_text if i not in list(string.punctuation)]\n",
        "    stop_words = stopwords.words('english')\n",
        "    final = [i for i in no_punct if i not in stop_words]\n",
        "    final = ' '.join(final)\n",
        "    return final\n",
        "\n",
        "df_final['text'] = df_final['text'].apply(lambda x: text_preprocessing(x))\n",
        "df_final"
      ]
    },
    {
      "cell_type": "code",
      "execution_count": 37,
      "id": "3aea8632",
      "metadata": {
        "id": "3aea8632"
      },
      "outputs": [],
      "source": [
        "#Now we need to vectorize our text data and find out cosine similarity.\n",
        "\n",
        "count_vect = CountVectorizer()\n",
        "films_vect = count_vect.fit_transform(df_final['text'])\n",
        "cosine_sim = cosine_similarity(films_vect, films_vect)"
      ]
    },
    {
      "cell_type": "markdown",
      "source": [
        "#Getting recommendations"
      ],
      "metadata": {
        "id": "9ZttGV9ZNBco"
      },
      "id": "9ZttGV9ZNBco"
    },
    {
      "cell_type": "code",
      "execution_count": 38,
      "id": "586f6e22",
      "metadata": {
        "id": "586f6e22"
      },
      "outputs": [],
      "source": [
        "#Let's create a dataset with recommendations.\n",
        "\n",
        "def get_recommendations(title, cosine_sim, dataset):\n",
        "    \n",
        "    idx = dataset.index[dataset['title']== title][0]\n",
        "    sim_scores = list(enumerate(cosine_sim[idx]))\n",
        "    sim_scores = sorted(sim_scores, key=lambda x: x[1], reverse=True)\n",
        "    sim_scores = sim_scores[1:11]\n",
        "    movie_indices = [i[0] for i in sim_scores]\n",
        "    recom = dataset['title'].iloc[movie_indices]\n",
        "    return ', '.join(recom.values.tolist())"
      ]
    },
    {
      "cell_type": "code",
      "source": [
        "#Let's create a dataset with recommendations.\n",
        "\n",
        "my_recommendations = pd.concat([df_final['title'], df_final['title'].apply(lambda x: get_recommendations(x, cosine_sim, df_final))], axis = 1)\n",
        "my_recommendations.columns.values[1] = \"recommendations\"\n",
        "my_recommendations.head(10)"
      ],
      "metadata": {
        "id": "sXiVxst89zIX",
        "colab": {
          "base_uri": "https://localhost:8080/",
          "height": 563
        },
        "outputId": "fb6bd59d-9fc6-48c5-d6dd-6fbec984b805"
      },
      "id": "sXiVxst89zIX",
      "execution_count": 39,
      "outputs": [
        {
          "output_type": "execute_result",
          "data": {
            "text/plain": [
              "                                                               title  \\\n",
              "0                                                      Still Walking   \n",
              "1                                                              Heidi   \n",
              "2                                                         The Racket   \n",
              "3                                                           Re-cycle   \n",
              "4                                                            The Sun   \n",
              "5                                                   The Country Girl   \n",
              "6                                                 A Dangerous Method   \n",
              "7                                                              Close   \n",
              "8  White Light/Black Rain: The Destruction of Hiroshima and Nagasaki   \n",
              "9                                                    Captain America   \n",
              "\n",
              "                                                                                                                                                                                             recommendations  \n",
              "0                           The Myth Of Fingerprints, Father and Son, Home Sweet Home, This Christmas, Mr & Mrs Bridge, Holiday Reunion, Jetsons: The Movie, Mission Kashmir, Sweet Nothing, Happy Christmas  \n",
              "1                            Imaginaerum, I Love You, Don't Touch Me!, The Road to Ruin, Memories of My Melancholy Whores, Outrage, First Girl I Loved, The Fruit is Swelling, That Night, Miss Kicki, Heidi  \n",
              "2                                                          Wise Guys, See This Movie, Intervista, Swimming to Cambodia, Film ist. 7-12, Stage Struck, The Gardener, Faust, Subramaniapuram, American Madness  \n",
              "3                                                Silk, Azazel, Nim's Island, The Crystal Ball, Beloved, The Mayor of Casterbridge, The Forsyte Saga, Eat, The Ten Lives of Titanics the Cat, Electric Dreams  \n",
              "4                    Education for Death, Intervista, The Lonely Voice of Man, See This Movie, My Way Home, Men Behind the Sun, The Early Years: Erik Nietzsche Part 1, Past Life, Images of a Relief, Faust  \n",
              "5  I Touched All Your Stuff, Wind, Silk, Tears of Stone, The Monkey's Mask, That's Entertainment! III, American: The Bill Hicks Story, Joni's Promise, The Dirty Picture, The Sarnos: A Life in Dirty Movies  \n",
              "6                                                       Zandalee, The Music of Chance, The Odd Couple, Still of the Night, Condo Painting, Eminem AKA, Love on Delivery, Epitaph, Princess Aurora, Labyrinth  \n",
              "7                                                              A Million, Pulling Strings, Light Gradient, Regret, En rachâchant, Night Watch, The Science of Sleep, Rings, American Justice, Pillow to Post  \n",
              "8                           The Awful Truth, The Saboteurs, Lorelei: The Witch of the Pacific Ocean, Black Rain, Day One, Copperhead, Memphis Belle, After the Apocalypse, Broken Windows, Looking for Lenny  \n",
              "9                       5 Steps to Danger, Prague, Captain America, Swamp Devil, Silent Trigger, Dead Men Don't Wear Plaid, The Governess, Soylent Green, The Man from Snowy River, HK: Forbidden Super Hero  "
            ],
            "text/html": [
              "\n",
              "  <div id=\"df-2311a393-e5e7-457e-a7f0-1dacd9d88e6f\">\n",
              "    <div class=\"colab-df-container\">\n",
              "      <div>\n",
              "<style scoped>\n",
              "    .dataframe tbody tr th:only-of-type {\n",
              "        vertical-align: middle;\n",
              "    }\n",
              "\n",
              "    .dataframe tbody tr th {\n",
              "        vertical-align: top;\n",
              "    }\n",
              "\n",
              "    .dataframe thead th {\n",
              "        text-align: right;\n",
              "    }\n",
              "</style>\n",
              "<table border=\"1\" class=\"dataframe\">\n",
              "  <thead>\n",
              "    <tr style=\"text-align: right;\">\n",
              "      <th></th>\n",
              "      <th>title</th>\n",
              "      <th>recommendations</th>\n",
              "    </tr>\n",
              "  </thead>\n",
              "  <tbody>\n",
              "    <tr>\n",
              "      <th>0</th>\n",
              "      <td>Still Walking</td>\n",
              "      <td>The Myth Of Fingerprints, Father and Son, Home Sweet Home, This Christmas, Mr &amp; Mrs Bridge, Holiday Reunion, Jetsons: The Movie, Mission Kashmir, Sweet Nothing, Happy Christmas</td>\n",
              "    </tr>\n",
              "    <tr>\n",
              "      <th>1</th>\n",
              "      <td>Heidi</td>\n",
              "      <td>Imaginaerum, I Love You, Don't Touch Me!, The Road to Ruin, Memories of My Melancholy Whores, Outrage, First Girl I Loved, The Fruit is Swelling, That Night, Miss Kicki, Heidi</td>\n",
              "    </tr>\n",
              "    <tr>\n",
              "      <th>2</th>\n",
              "      <td>The Racket</td>\n",
              "      <td>Wise Guys, See This Movie, Intervista, Swimming to Cambodia, Film ist. 7-12, Stage Struck, The Gardener, Faust, Subramaniapuram, American Madness</td>\n",
              "    </tr>\n",
              "    <tr>\n",
              "      <th>3</th>\n",
              "      <td>Re-cycle</td>\n",
              "      <td>Silk, Azazel, Nim's Island, The Crystal Ball, Beloved, The Mayor of Casterbridge, The Forsyte Saga, Eat, The Ten Lives of Titanics the Cat, Electric Dreams</td>\n",
              "    </tr>\n",
              "    <tr>\n",
              "      <th>4</th>\n",
              "      <td>The Sun</td>\n",
              "      <td>Education for Death, Intervista, The Lonely Voice of Man, See This Movie, My Way Home, Men Behind the Sun, The Early Years: Erik Nietzsche Part 1, Past Life, Images of a Relief, Faust</td>\n",
              "    </tr>\n",
              "    <tr>\n",
              "      <th>5</th>\n",
              "      <td>The Country Girl</td>\n",
              "      <td>I Touched All Your Stuff, Wind, Silk, Tears of Stone, The Monkey's Mask, That's Entertainment! III, American: The Bill Hicks Story, Joni's Promise, The Dirty Picture, The Sarnos: A Life in Dirty Movies</td>\n",
              "    </tr>\n",
              "    <tr>\n",
              "      <th>6</th>\n",
              "      <td>A Dangerous Method</td>\n",
              "      <td>Zandalee, The Music of Chance, The Odd Couple, Still of the Night, Condo Painting, Eminem AKA, Love on Delivery, Epitaph, Princess Aurora, Labyrinth</td>\n",
              "    </tr>\n",
              "    <tr>\n",
              "      <th>7</th>\n",
              "      <td>Close</td>\n",
              "      <td>A Million, Pulling Strings, Light Gradient, Regret, En rachâchant, Night Watch, The Science of Sleep, Rings, American Justice, Pillow to Post</td>\n",
              "    </tr>\n",
              "    <tr>\n",
              "      <th>8</th>\n",
              "      <td>White Light/Black Rain: The Destruction of Hiroshima and Nagasaki</td>\n",
              "      <td>The Awful Truth, The Saboteurs, Lorelei: The Witch of the Pacific Ocean, Black Rain, Day One, Copperhead, Memphis Belle, After the Apocalypse, Broken Windows, Looking for Lenny</td>\n",
              "    </tr>\n",
              "    <tr>\n",
              "      <th>9</th>\n",
              "      <td>Captain America</td>\n",
              "      <td>5 Steps to Danger, Prague, Captain America, Swamp Devil, Silent Trigger, Dead Men Don't Wear Plaid, The Governess, Soylent Green, The Man from Snowy River, HK: Forbidden Super Hero</td>\n",
              "    </tr>\n",
              "  </tbody>\n",
              "</table>\n",
              "</div>\n",
              "      <button class=\"colab-df-convert\" onclick=\"convertToInteractive('df-2311a393-e5e7-457e-a7f0-1dacd9d88e6f')\"\n",
              "              title=\"Convert this dataframe to an interactive table.\"\n",
              "              style=\"display:none;\">\n",
              "        \n",
              "  <svg xmlns=\"http://www.w3.org/2000/svg\" height=\"24px\"viewBox=\"0 0 24 24\"\n",
              "       width=\"24px\">\n",
              "    <path d=\"M0 0h24v24H0V0z\" fill=\"none\"/>\n",
              "    <path d=\"M18.56 5.44l.94 2.06.94-2.06 2.06-.94-2.06-.94-.94-2.06-.94 2.06-2.06.94zm-11 1L8.5 8.5l.94-2.06 2.06-.94-2.06-.94L8.5 2.5l-.94 2.06-2.06.94zm10 10l.94 2.06.94-2.06 2.06-.94-2.06-.94-.94-2.06-.94 2.06-2.06.94z\"/><path d=\"M17.41 7.96l-1.37-1.37c-.4-.4-.92-.59-1.43-.59-.52 0-1.04.2-1.43.59L10.3 9.45l-7.72 7.72c-.78.78-.78 2.05 0 2.83L4 21.41c.39.39.9.59 1.41.59.51 0 1.02-.2 1.41-.59l7.78-7.78 2.81-2.81c.8-.78.8-2.07 0-2.86zM5.41 20L4 18.59l7.72-7.72 1.47 1.35L5.41 20z\"/>\n",
              "  </svg>\n",
              "      </button>\n",
              "      \n",
              "  <style>\n",
              "    .colab-df-container {\n",
              "      display:flex;\n",
              "      flex-wrap:wrap;\n",
              "      gap: 12px;\n",
              "    }\n",
              "\n",
              "    .colab-df-convert {\n",
              "      background-color: #E8F0FE;\n",
              "      border: none;\n",
              "      border-radius: 50%;\n",
              "      cursor: pointer;\n",
              "      display: none;\n",
              "      fill: #1967D2;\n",
              "      height: 32px;\n",
              "      padding: 0 0 0 0;\n",
              "      width: 32px;\n",
              "    }\n",
              "\n",
              "    .colab-df-convert:hover {\n",
              "      background-color: #E2EBFA;\n",
              "      box-shadow: 0px 1px 2px rgba(60, 64, 67, 0.3), 0px 1px 3px 1px rgba(60, 64, 67, 0.15);\n",
              "      fill: #174EA6;\n",
              "    }\n",
              "\n",
              "    [theme=dark] .colab-df-convert {\n",
              "      background-color: #3B4455;\n",
              "      fill: #D2E3FC;\n",
              "    }\n",
              "\n",
              "    [theme=dark] .colab-df-convert:hover {\n",
              "      background-color: #434B5C;\n",
              "      box-shadow: 0px 1px 3px 1px rgba(0, 0, 0, 0.15);\n",
              "      filter: drop-shadow(0px 1px 2px rgba(0, 0, 0, 0.3));\n",
              "      fill: #FFFFFF;\n",
              "    }\n",
              "  </style>\n",
              "\n",
              "      <script>\n",
              "        const buttonEl =\n",
              "          document.querySelector('#df-2311a393-e5e7-457e-a7f0-1dacd9d88e6f button.colab-df-convert');\n",
              "        buttonEl.style.display =\n",
              "          google.colab.kernel.accessAllowed ? 'block' : 'none';\n",
              "\n",
              "        async function convertToInteractive(key) {\n",
              "          const element = document.querySelector('#df-2311a393-e5e7-457e-a7f0-1dacd9d88e6f');\n",
              "          const dataTable =\n",
              "            await google.colab.kernel.invokeFunction('convertToInteractive',\n",
              "                                                     [key], {});\n",
              "          if (!dataTable) return;\n",
              "\n",
              "          const docLinkHtml = 'Like what you see? Visit the ' +\n",
              "            '<a target=\"_blank\" href=https://colab.research.google.com/notebooks/data_table.ipynb>data table notebook</a>'\n",
              "            + ' to learn more about interactive tables.';\n",
              "          element.innerHTML = '';\n",
              "          dataTable['output_type'] = 'display_data';\n",
              "          await google.colab.output.renderOutput(dataTable, element);\n",
              "          const docLink = document.createElement('div');\n",
              "          docLink.innerHTML = docLinkHtml;\n",
              "          element.appendChild(docLink);\n",
              "        }\n",
              "      </script>\n",
              "    </div>\n",
              "  </div>\n",
              "  "
            ]
          },
          "metadata": {},
          "execution_count": 39
        }
      ]
    },
    {
      "cell_type": "code",
      "source": [
        "list_recomm = get_recommendations(title = 'A Dangerous Method', cosine_sim = cosine_sim, dataset = df_final)\n",
        "for i in list_recomm.split(','):\n",
        "  print(i)"
      ],
      "metadata": {
        "colab": {
          "base_uri": "https://localhost:8080/"
        },
        "id": "Nepn5fBaFIok",
        "outputId": "689a9aa0-92f2-4237-bc5f-1cf829127622"
      },
      "id": "Nepn5fBaFIok",
      "execution_count": 48,
      "outputs": [
        {
          "output_type": "stream",
          "name": "stdout",
          "text": [
            "Zandalee\n",
            " The Music of Chance\n",
            " The Odd Couple\n",
            " Still of the Night\n",
            " Condo Painting\n",
            " Eminem AKA\n",
            " Love on Delivery\n",
            " Epitaph\n",
            " Princess Aurora\n",
            " Labyrinth\n"
          ]
        }
      ]
    }
  ],
  "metadata": {
    "kernelspec": {
      "display_name": "Python 3 (ipykernel)",
      "language": "python",
      "name": "python3"
    },
    "language_info": {
      "codemirror_mode": {
        "name": "ipython",
        "version": 3
      },
      "file_extension": ".py",
      "mimetype": "text/x-python",
      "name": "python",
      "nbconvert_exporter": "python",
      "pygments_lexer": "ipython3",
      "version": "3.9.12"
    },
    "colab": {
      "provenance": [],
      "include_colab_link": true
    }
  },
  "nbformat": 4,
  "nbformat_minor": 5
}