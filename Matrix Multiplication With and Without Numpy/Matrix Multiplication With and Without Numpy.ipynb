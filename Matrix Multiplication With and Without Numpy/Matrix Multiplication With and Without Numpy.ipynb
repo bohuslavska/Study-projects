{
 "cells": [
  {
   "cell_type": "markdown",
   "metadata": {},
   "source": [
    "## About the project"
   ]
  },
  {
   "cell_type": "markdown",
   "metadata": {},
   "source": [
    "> This project aims to compare the speed of matrix multiplication with and without the NumPy library (the fundamental package for scientific computing with Python)."
   ]
  },
  {
   "cell_type": "markdown",
   "metadata": {},
   "source": [
    "## Matrix multiplication without Numpy"
   ]
  },
  {
   "cell_type": "code",
   "execution_count": 1,
   "metadata": {
    "colab": {
     "base_uri": "https://localhost:8080/"
    },
    "id": "ai7oqt3QVjNE",
    "outputId": "b08f075a-7aa2-4962-c961-04c36fe0f49f"
   },
   "outputs": [
    {
     "name": "stdout",
     "output_type": "stream",
     "text": [
      "[55, 65, 49, 5]\n",
      "[57, 68, 72, 12]\n",
      "[90, 107, 111, 21]\n"
     ]
    }
   ],
   "source": [
    "X = [[1, 7, 3],\n",
    "    [3, 5, 6],\n",
    "    [6, 8, 9]]\n",
    "\n",
    "Y = [[1, 1, 1, 2],\n",
    "    [6, 7, 3, 0],\n",
    "    [4, 5, 9, 1]]\n",
    "\n",
    "def matrix_dot_matrix(X, Y):\n",
    "    if len(X[0]) != len(Y):\n",
    "        print(\"The number of columns in the first matrix doesn't match the number of rows in the second matrix. Multiplication is impossible.\")\n",
    "        return []\n",
    "    else:\n",
    "        output_matrix = []\n",
    "        for i in range(len(X)):\n",
    "            output_matrix.append([0] * len(Y[0]))\n",
    "        for i in range(len(X)):\n",
    "            for j in range(len(Y[0])):\n",
    "                for k in range(len(Y)):\n",
    "                    output_matrix[i][j] += X[i][k] * Y[k][j]\n",
    "    return output_matrix\n",
    "\n",
    "for part in matrix_dot_matrix(X, Y):\n",
    "    print(part)"
   ]
  },
  {
   "cell_type": "markdown",
   "metadata": {},
   "source": [
    "## Matrix multiplication with NumPy"
   ]
  },
  {
   "cell_type": "code",
   "execution_count": 2,
   "metadata": {
    "colab": {
     "base_uri": "https://localhost:8080/"
    },
    "id": "C6riQii_V0hL",
    "outputId": "a0d24cdf-4613-4dcb-f452-fd4a4479ac6f"
   },
   "outputs": [
    {
     "name": "stdout",
     "output_type": "stream",
     "text": [
      "[[ 55  65  49   5]\n",
      " [ 57  68  72  12]\n",
      " [ 90 107 111  21]]\n"
     ]
    }
   ],
   "source": [
    "X = [[1, 7, 3],\n",
    "    [3, 5, 6],\n",
    "    [6, 8, 9]]\n",
    "\n",
    "Y = [[1, 1, 1, 2],\n",
    "   [6, 7, 3, 0],\n",
    "   [4, 5, 9, 1]]\n",
    "\n",
    "import numpy as np\n",
    "print(np.dot(X,Y))"
   ]
  },
  {
   "cell_type": "markdown",
   "metadata": {},
   "source": [
    "## Speed comparison: which operation takes less time?"
   ]
  },
  {
   "cell_type": "code",
   "execution_count": 3,
   "metadata": {
    "colab": {
     "base_uri": "https://localhost:8080/"
    },
    "id": "Ffylq7h1V68S",
    "outputId": "85a867fa-6027-4e4b-b927-2fa471ddebcb"
   },
   "outputs": [
    {
     "name": "stdout",
     "output_type": "stream",
     "text": [
      "0:00:01.059259\n"
     ]
    }
   ],
   "source": [
    "#Matrix multiplication without Numpy\n",
    "\n",
    "X = []\n",
    "for i in range(200):\n",
    "    X.append([12126273] * 200)\n",
    "\n",
    "Y = []\n",
    "for i in range(200):\n",
    "    Y.append([1212627367] * 100)\n",
    "\n",
    "from datetime import datetime\n",
    "import time\n",
    "start_time_1 = datetime.now()\n",
    "\n",
    "def matrix_dot_matrix(X, Y):\n",
    "    if len(X[0]) != len(Y):\n",
    "        print(\"The number of columns in the first matrix doesn't match the number of rows in the second matrix. Multiplication is impossible.\")\n",
    "        return []\n",
    "    else:\n",
    "        output_matrix = []\n",
    "        for i in range(len(X)):\n",
    "            output_matrix.append([0] * len(Y[0]))\n",
    "        for i in range(len(X)):\n",
    "            for j in range(len(Y[0])):\n",
    "                for k in range(len(Y)):\n",
    "                    output_matrix[i][j] += X[i][k] * Y[k][j]\n",
    "    return output_matrix\n",
    "\n",
    "matrix_dot_matrix(X, Y)\n",
    "\n",
    "print(datetime.now() - start_time_1)"
   ]
  },
  {
   "cell_type": "code",
   "execution_count": 4,
   "metadata": {
    "colab": {
     "base_uri": "https://localhost:8080/"
    },
    "id": "GRUlYnovWcLW",
    "outputId": "991bb25c-0d28-4497-b029-88a031f8a7dd"
   },
   "outputs": [
    {
     "name": "stdout",
     "output_type": "stream",
     "text": [
      "0:00:00.007759\n"
     ]
    }
   ],
   "source": [
    "#Matrix multiplication with NumPy\n",
    "\n",
    "X = []\n",
    "for i in range(200):\n",
    "    X.append([12126273] * 200)\n",
    "\n",
    "Y = []\n",
    "for i in range(200):\n",
    "    Y.append([1212627367] * 100)\n",
    "\n",
    "from datetime import datetime\n",
    "import time\n",
    "start_time_2 = datetime.now()\n",
    "\n",
    "import numpy as np\n",
    "np.dot(X,Y)\n",
    "\n",
    "print(datetime.now() - start_time_2)"
   ]
  },
  {
   "cell_type": "markdown",
   "metadata": {
    "id": "bxHJZ2Z1YsYO"
   },
   "source": [
    "> As a result, we found out that NumPy performs matrix multiplication much faster than just Python."
   ]
  }
 ],
 "metadata": {
  "colab": {
   "authorship_tag": "ABX9TyMLn+M6jOH2skbEppRQKj8p",
   "include_colab_link": true,
   "name": "ДЗ 1 Богуславская (Hillel)",
   "provenance": []
  },
  "kernelspec": {
   "display_name": "Python 3 (ipykernel)",
   "language": "python",
   "name": "python3"
  },
  "language_info": {
   "codemirror_mode": {
    "name": "ipython",
    "version": 3
   },
   "file_extension": ".py",
   "mimetype": "text/x-python",
   "name": "python",
   "nbconvert_exporter": "python",
   "pygments_lexer": "ipython3",
   "version": "3.9.12"
  }
 },
 "nbformat": 4,
 "nbformat_minor": 1
}
