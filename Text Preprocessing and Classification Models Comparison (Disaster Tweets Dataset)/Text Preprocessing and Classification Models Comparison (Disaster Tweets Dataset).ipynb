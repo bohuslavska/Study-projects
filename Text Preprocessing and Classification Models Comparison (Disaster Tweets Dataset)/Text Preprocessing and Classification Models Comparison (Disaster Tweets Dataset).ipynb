{
 "cells": [
  {
   "cell_type": "code",
   "execution_count": 1,
   "id": "2a4bb965",
   "metadata": {},
   "outputs": [],
   "source": [
    "#Imports\n",
    "\n",
    "import nltk\n",
    "from nltk.corpus import stopwords\n",
    "from nltk.stem import WordNetLemmatizer\n",
    "from sklearn.feature_extraction.text import CountVectorizer\n",
    "from sklearn.linear_model import LogisticRegression\n",
    "from sklearn.naive_bayes import MultinomialNB\n",
    "\n",
    "from sklearn.model_selection import train_test_split\n",
    "from sklearn.ensemble import RandomForestClassifier\n",
    "from sklearn.metrics import classification_report\n",
    "from sklearn.metrics import confusion_matrix, ConfusionMatrixDisplay\n",
    "\n",
    "import string\n",
    "string.punctuation\n",
    "import numpy as np\n",
    "import pandas as pd\n",
    "import seaborn as sns\n",
    "import matplotlib.pyplot as plt"
   ]
  },
  {
   "cell_type": "markdown",
   "id": "ce48463b",
   "metadata": {},
   "source": [
    "Про датасет\n",
    "===\n",
    "\n",
    "Дані **Disaster Tweets Classification** взяті з платформи Kaggle.\n",
    "Вони містять такі колонки:\n",
    "* Текст твітера\n",
    "* Ключове слово твітера\n",
    "* Локація\n",
    "* Таргет, який визначає, чи був цей твіт про катастрофу чи ні. \n",
    "\n",
    "Потрібно побудувати модель класифікації, використвуючи техніки NLP. Можна також спробувати використати додаткові колонки, але для деяких записів вони порожні.\n",
    "\n",
    "\n",
    "Не забудьте розділити датасет на train і test, або зробити кросс-валідацію. \n",
    "\n",
    "Напишість про обрані вами метрики, та звітуйте результат роботи моделі. "
   ]
  },
  {
   "cell_type": "code",
   "execution_count": 2,
   "id": "b73e602b",
   "metadata": {},
   "outputs": [
    {
     "data": {
      "text/html": [
       "<div>\n",
       "<style scoped>\n",
       "    .dataframe tbody tr th:only-of-type {\n",
       "        vertical-align: middle;\n",
       "    }\n",
       "\n",
       "    .dataframe tbody tr th {\n",
       "        vertical-align: top;\n",
       "    }\n",
       "\n",
       "    .dataframe thead th {\n",
       "        text-align: right;\n",
       "    }\n",
       "</style>\n",
       "<table border=\"1\" class=\"dataframe\">\n",
       "  <thead>\n",
       "    <tr style=\"text-align: right;\">\n",
       "      <th></th>\n",
       "      <th>id</th>\n",
       "      <th>keyword</th>\n",
       "      <th>location</th>\n",
       "      <th>text</th>\n",
       "      <th>target</th>\n",
       "    </tr>\n",
       "  </thead>\n",
       "  <tbody>\n",
       "    <tr>\n",
       "      <th>0</th>\n",
       "      <td>1</td>\n",
       "      <td>NaN</td>\n",
       "      <td>NaN</td>\n",
       "      <td>Our Deeds are the Reason of this #earthquake M...</td>\n",
       "      <td>1</td>\n",
       "    </tr>\n",
       "    <tr>\n",
       "      <th>1</th>\n",
       "      <td>4</td>\n",
       "      <td>NaN</td>\n",
       "      <td>NaN</td>\n",
       "      <td>Forest fire near La Ronge Sask. Canada</td>\n",
       "      <td>1</td>\n",
       "    </tr>\n",
       "    <tr>\n",
       "      <th>2</th>\n",
       "      <td>5</td>\n",
       "      <td>NaN</td>\n",
       "      <td>NaN</td>\n",
       "      <td>All residents asked to 'shelter in place' are ...</td>\n",
       "      <td>1</td>\n",
       "    </tr>\n",
       "    <tr>\n",
       "      <th>3</th>\n",
       "      <td>6</td>\n",
       "      <td>NaN</td>\n",
       "      <td>NaN</td>\n",
       "      <td>13,000 people receive #wildfires evacuation or...</td>\n",
       "      <td>1</td>\n",
       "    </tr>\n",
       "    <tr>\n",
       "      <th>4</th>\n",
       "      <td>7</td>\n",
       "      <td>NaN</td>\n",
       "      <td>NaN</td>\n",
       "      <td>Just got sent this photo from Ruby #Alaska as ...</td>\n",
       "      <td>1</td>\n",
       "    </tr>\n",
       "  </tbody>\n",
       "</table>\n",
       "</div>"
      ],
      "text/plain": [
       "   id keyword location                                               text  \\\n",
       "0   1     NaN      NaN  Our Deeds are the Reason of this #earthquake M...   \n",
       "1   4     NaN      NaN             Forest fire near La Ronge Sask. Canada   \n",
       "2   5     NaN      NaN  All residents asked to 'shelter in place' are ...   \n",
       "3   6     NaN      NaN  13,000 people receive #wildfires evacuation or...   \n",
       "4   7     NaN      NaN  Just got sent this photo from Ruby #Alaska as ...   \n",
       "\n",
       "   target  \n",
       "0       1  \n",
       "1       1  \n",
       "2       1  \n",
       "3       1  \n",
       "4       1  "
      ]
     },
     "execution_count": 2,
     "metadata": {},
     "output_type": "execute_result"
    }
   ],
   "source": [
    "#Reading our dataset\n",
    "\n",
    "df = pd.read_csv('train.csv')\n",
    "df.head(5)"
   ]
  },
  {
   "cell_type": "code",
   "execution_count": 3,
   "id": "5ad85b7d",
   "metadata": {},
   "outputs": [
    {
     "data": {
      "text/html": [
       "<div>\n",
       "<style scoped>\n",
       "    .dataframe tbody tr th:only-of-type {\n",
       "        vertical-align: middle;\n",
       "    }\n",
       "\n",
       "    .dataframe tbody tr th {\n",
       "        vertical-align: top;\n",
       "    }\n",
       "\n",
       "    .dataframe thead th {\n",
       "        text-align: right;\n",
       "    }\n",
       "</style>\n",
       "<table border=\"1\" class=\"dataframe\">\n",
       "  <thead>\n",
       "    <tr style=\"text-align: right;\">\n",
       "      <th></th>\n",
       "      <th>id</th>\n",
       "      <th>keyword</th>\n",
       "      <th>location</th>\n",
       "      <th>text</th>\n",
       "      <th>target</th>\n",
       "    </tr>\n",
       "  </thead>\n",
       "  <tbody>\n",
       "    <tr>\n",
       "      <th>0</th>\n",
       "      <td>1</td>\n",
       "      <td>NaN</td>\n",
       "      <td>NaN</td>\n",
       "      <td>Our Deeds are the Reason of this #earthquake May ALLAH Forgive us all</td>\n",
       "      <td>1</td>\n",
       "    </tr>\n",
       "    <tr>\n",
       "      <th>1</th>\n",
       "      <td>4</td>\n",
       "      <td>NaN</td>\n",
       "      <td>NaN</td>\n",
       "      <td>Forest fire near La Ronge Sask. Canada</td>\n",
       "      <td>1</td>\n",
       "    </tr>\n",
       "    <tr>\n",
       "      <th>2</th>\n",
       "      <td>5</td>\n",
       "      <td>NaN</td>\n",
       "      <td>NaN</td>\n",
       "      <td>All residents asked to 'shelter in place' are being notified by officers. No other evacuation or shelter in place orders are expected</td>\n",
       "      <td>1</td>\n",
       "    </tr>\n",
       "    <tr>\n",
       "      <th>3</th>\n",
       "      <td>6</td>\n",
       "      <td>NaN</td>\n",
       "      <td>NaN</td>\n",
       "      <td>13,000 people receive #wildfires evacuation orders in California</td>\n",
       "      <td>1</td>\n",
       "    </tr>\n",
       "    <tr>\n",
       "      <th>4</th>\n",
       "      <td>7</td>\n",
       "      <td>NaN</td>\n",
       "      <td>NaN</td>\n",
       "      <td>Just got sent this photo from Ruby #Alaska as smoke from #wildfires pours into a school</td>\n",
       "      <td>1</td>\n",
       "    </tr>\n",
       "  </tbody>\n",
       "</table>\n",
       "</div>"
      ],
      "text/plain": [
       "   id keyword location  \\\n",
       "0   1     NaN      NaN   \n",
       "1   4     NaN      NaN   \n",
       "2   5     NaN      NaN   \n",
       "3   6     NaN      NaN   \n",
       "4   7     NaN      NaN   \n",
       "\n",
       "                                                                                                                                    text  \\\n",
       "0                                                                  Our Deeds are the Reason of this #earthquake May ALLAH Forgive us all   \n",
       "1                                                                                                 Forest fire near La Ronge Sask. Canada   \n",
       "2  All residents asked to 'shelter in place' are being notified by officers. No other evacuation or shelter in place orders are expected   \n",
       "3                                                                      13,000 people receive #wildfires evacuation orders in California    \n",
       "4                                               Just got sent this photo from Ruby #Alaska as smoke from #wildfires pours into a school    \n",
       "\n",
       "   target  \n",
       "0       1  \n",
       "1       1  \n",
       "2       1  \n",
       "3       1  \n",
       "4       1  "
      ]
     },
     "execution_count": 3,
     "metadata": {},
     "output_type": "execute_result"
    }
   ],
   "source": [
    "#Expanding the dispay of the text column\n",
    "\n",
    "pd.set_option('display.max_colwidth', 150)\n",
    "df.head(5)"
   ]
  },
  {
   "cell_type": "code",
   "execution_count": 4,
   "id": "229fe9da",
   "metadata": {},
   "outputs": [
    {
     "data": {
      "text/plain": [
       "id             0\n",
       "keyword       61\n",
       "location    2533\n",
       "text           0\n",
       "target         0\n",
       "dtype: int64"
      ]
     },
     "execution_count": 4,
     "metadata": {},
     "output_type": "execute_result"
    }
   ],
   "source": [
    "#Checking for missing values\n",
    "\n",
    "df.isnull().sum()"
   ]
  },
  {
   "cell_type": "code",
   "execution_count": 5,
   "id": "27427588",
   "metadata": {},
   "outputs": [
    {
     "data": {
      "text/plain": [
       "keyword    0\n",
       "text       0\n",
       "target     0\n",
       "dtype: int64"
      ]
     },
     "execution_count": 5,
     "metadata": {},
     "output_type": "execute_result"
    }
   ],
   "source": [
    "#Deleting rows with missing keywords and dropping the location column\n",
    "\n",
    "df = df.dropna(axis=0, how='any')\n",
    "df = df[['keyword', 'text', 'target']]\n",
    "df = df.reset_index(drop = True)\n",
    "    \n",
    "df.isnull().sum()"
   ]
  },
  {
   "cell_type": "code",
   "execution_count": 6,
   "id": "2e2de936",
   "metadata": {},
   "outputs": [
    {
     "data": {
      "image/png": "[encoded data removed]",
      "text/plain": [
       "<Figure size 432x288 with 1 Axes>"
      ]
     },
     "metadata": {
      "needs_background": "light"
     },
     "output_type": "display_data"
    }
   ],
   "source": [
    "#The dataset seems quite balanced.\n",
    "\n",
    "sns.countplot(x = df['target'], label='target');"
   ]
  },
  {
   "cell_type": "markdown",
   "id": "80450463",
   "metadata": {},
   "source": [
    "## Text Preprocessing"
   ]
  },
  {
   "cell_type": "code",
   "execution_count": 7,
   "id": "1036e8ba",
   "metadata": {},
   "outputs": [],
   "source": [
    "#Creating function for the text preprocessing \n",
    "#(removing punctuation and stop words, distinguishing links and usernames, applying lemmatization)\n",
    "\n",
    "def text_preprocessing(text):\n",
    "    custom_punct = string.punctuation.replace('@', '')\n",
    "    no_punct = [i for i in text if i not in custom_punct]\n",
    "    no_punct = \"\".join(no_punct)\n",
    "    new_text = [] \n",
    "    for t in no_punct.split():\n",
    "        t = 'USER' if t.startswith('@') and len(t) > 1 else t\n",
    "        t = 'HTTP' if t.startswith('http') else t\n",
    "        new_text.append(t)\n",
    "    new_text = \" \".join(new_text)\n",
    "    \n",
    "    stop_words = stopwords.words('english')\n",
    "    stop_words.extend(['USER', 'HTTP'])\n",
    "    no_stop_words = [i for i in new_text.split() if i not in stop_words]\n",
    "    lowercase = [i.lower() for i in no_stop_words]\n",
    "    lowercase = [i.lower() for i in no_stop_words]\n",
    "    wordnet_lemmatizer = WordNetLemmatizer()\n",
    "    lemma_text = [wordnet_lemmatizer.lemmatize(word) for word in lowercase]\n",
    "    return ' '.join(lemma_text)"
   ]
  },
  {
   "cell_type": "code",
   "execution_count": 8,
   "id": "870067af",
   "metadata": {},
   "outputs": [
    {
     "data": {
      "text/html": [
       "<div>\n",
       "<style scoped>\n",
       "    .dataframe tbody tr th:only-of-type {\n",
       "        vertical-align: middle;\n",
       "    }\n",
       "\n",
       "    .dataframe tbody tr th {\n",
       "        vertical-align: top;\n",
       "    }\n",
       "\n",
       "    .dataframe thead th {\n",
       "        text-align: right;\n",
       "    }\n",
       "</style>\n",
       "<table border=\"1\" class=\"dataframe\">\n",
       "  <thead>\n",
       "    <tr style=\"text-align: right;\">\n",
       "      <th></th>\n",
       "      <th>keyword</th>\n",
       "      <th>text</th>\n",
       "      <th>target</th>\n",
       "    </tr>\n",
       "  </thead>\n",
       "  <tbody>\n",
       "    <tr>\n",
       "      <th>0</th>\n",
       "      <td>ablaze</td>\n",
       "      <td>wholesale market ablaze</td>\n",
       "      <td>1</td>\n",
       "    </tr>\n",
       "    <tr>\n",
       "      <th>1</th>\n",
       "      <td>ablaze</td>\n",
       "      <td>we always try bring heavy metal rt</td>\n",
       "      <td>0</td>\n",
       "    </tr>\n",
       "    <tr>\n",
       "      <th>2</th>\n",
       "      <td>ablaze</td>\n",
       "      <td>africanbaze breaking newsnigeria flag set ablaze aba</td>\n",
       "      <td>1</td>\n",
       "    </tr>\n",
       "    <tr>\n",
       "      <th>3</th>\n",
       "      <td>ablaze</td>\n",
       "      <td>cry set ablaze</td>\n",
       "      <td>0</td>\n",
       "    </tr>\n",
       "    <tr>\n",
       "      <th>4</th>\n",
       "      <td>ablaze</td>\n",
       "      <td>on plus side look at the sky last night it was ablaze</td>\n",
       "      <td>0</td>\n",
       "    </tr>\n",
       "    <tr>\n",
       "      <th>5</th>\n",
       "      <td>ablaze</td>\n",
       "      <td>mufc theyve built much hype around new acquisition i doubt set epl ablaze season</td>\n",
       "      <td>0</td>\n",
       "    </tr>\n",
       "    <tr>\n",
       "      <th>6</th>\n",
       "      <td>ablaze</td>\n",
       "      <td>inec office abia set ablaze</td>\n",
       "      <td>1</td>\n",
       "    </tr>\n",
       "    <tr>\n",
       "      <th>7</th>\n",
       "      <td>ablaze</td>\n",
       "      <td>ablaze lord d</td>\n",
       "      <td>0</td>\n",
       "    </tr>\n",
       "    <tr>\n",
       "      <th>8</th>\n",
       "      <td>ablaze</td>\n",
       "      <td>check nsfw</td>\n",
       "      <td>0</td>\n",
       "    </tr>\n",
       "    <tr>\n",
       "      <th>9</th>\n",
       "      <td>ablaze</td>\n",
       "      <td>had awesome time visiting cfc head office ancop site ablaze thanks tita vida taking care us</td>\n",
       "      <td>0</td>\n",
       "    </tr>\n",
       "    <tr>\n",
       "      <th>10</th>\n",
       "      <td>ablaze</td>\n",
       "      <td>how west burned thousand wildfire ablaze california alone</td>\n",
       "      <td>1</td>\n",
       "    </tr>\n",
       "    <tr>\n",
       "      <th>11</th>\n",
       "      <td>ablaze</td>\n",
       "      <td>check nsfw</td>\n",
       "      <td>0</td>\n",
       "    </tr>\n",
       "    <tr>\n",
       "      <th>12</th>\n",
       "      <td>ablaze</td>\n",
       "      <td>first night retainer it quite weird better get used i wear every single night next year least</td>\n",
       "      <td>0</td>\n",
       "    </tr>\n",
       "    <tr>\n",
       "      <th>13</th>\n",
       "      <td>ablaze</td>\n",
       "      <td>deputy man shot brighton home set ablaze</td>\n",
       "      <td>1</td>\n",
       "    </tr>\n",
       "    <tr>\n",
       "      <th>14</th>\n",
       "      <td>ablaze</td>\n",
       "      <td>man wife get six year jail setting ablaze niece</td>\n",
       "      <td>1</td>\n",
       "    </tr>\n",
       "    <tr>\n",
       "      <th>15</th>\n",
       "      <td>ablaze</td>\n",
       "      <td>santa cruz ûó head st elizabeth police superintendent lanford salmon r</td>\n",
       "      <td>0</td>\n",
       "    </tr>\n",
       "    <tr>\n",
       "      <th>16</th>\n",
       "      <td>ablaze</td>\n",
       "      <td>police arsonist deliberately set black church in north carolinaåêablaze</td>\n",
       "      <td>1</td>\n",
       "    </tr>\n",
       "    <tr>\n",
       "      <th>17</th>\n",
       "      <td>ablaze</td>\n",
       "      <td>noches elbestia happy see teammate training hard goodnight gunner</td>\n",
       "      <td>0</td>\n",
       "    </tr>\n",
       "    <tr>\n",
       "      <th>18</th>\n",
       "      <td>ablaze</td>\n",
       "      <td>kurd trampling turkmen flag later set ablaze others vandalized office turkmen front diyala</td>\n",
       "      <td>1</td>\n",
       "    </tr>\n",
       "    <tr>\n",
       "      <th>19</th>\n",
       "      <td>ablaze</td>\n",
       "      <td>truck ablaze r21 voortrekker ave outside or tambo intl cargo section</td>\n",
       "      <td>1</td>\n",
       "    </tr>\n",
       "  </tbody>\n",
       "</table>\n",
       "</div>"
      ],
      "text/plain": [
       "   keyword  \\\n",
       "0   ablaze   \n",
       "1   ablaze   \n",
       "2   ablaze   \n",
       "3   ablaze   \n",
       "4   ablaze   \n",
       "5   ablaze   \n",
       "6   ablaze   \n",
       "7   ablaze   \n",
       "8   ablaze   \n",
       "9   ablaze   \n",
       "10  ablaze   \n",
       "11  ablaze   \n",
       "12  ablaze   \n",
       "13  ablaze   \n",
       "14  ablaze   \n",
       "15  ablaze   \n",
       "16  ablaze   \n",
       "17  ablaze   \n",
       "18  ablaze   \n",
       "19  ablaze   \n",
       "\n",
       "                                                                                             text  \\\n",
       "0                                                                         wholesale market ablaze   \n",
       "1                                                              we always try bring heavy metal rt   \n",
       "2                                            africanbaze breaking newsnigeria flag set ablaze aba   \n",
       "3                                                                                  cry set ablaze   \n",
       "4                                           on plus side look at the sky last night it was ablaze   \n",
       "5                mufc theyve built much hype around new acquisition i doubt set epl ablaze season   \n",
       "6                                                                     inec office abia set ablaze   \n",
       "7                                                                                   ablaze lord d   \n",
       "8                                                                                      check nsfw   \n",
       "9     had awesome time visiting cfc head office ancop site ablaze thanks tita vida taking care us   \n",
       "10                                      how west burned thousand wildfire ablaze california alone   \n",
       "11                                                                                     check nsfw   \n",
       "12  first night retainer it quite weird better get used i wear every single night next year least   \n",
       "13                                                       deputy man shot brighton home set ablaze   \n",
       "14                                                man wife get six year jail setting ablaze niece   \n",
       "15                        santa cruz ûó head st elizabeth police superintendent lanford salmon r   \n",
       "16                        police arsonist deliberately set black church in north carolinaåêablaze   \n",
       "17                              noches elbestia happy see teammate training hard goodnight gunner   \n",
       "18     kurd trampling turkmen flag later set ablaze others vandalized office turkmen front diyala   \n",
       "19                           truck ablaze r21 voortrekker ave outside or tambo intl cargo section   \n",
       "\n",
       "    target  \n",
       "0        1  \n",
       "1        0  \n",
       "2        1  \n",
       "3        0  \n",
       "4        0  \n",
       "5        0  \n",
       "6        1  \n",
       "7        0  \n",
       "8        0  \n",
       "9        0  \n",
       "10       1  \n",
       "11       0  \n",
       "12       0  \n",
       "13       1  \n",
       "14       1  \n",
       "15       0  \n",
       "16       1  \n",
       "17       0  \n",
       "18       1  \n",
       "19       1  "
      ]
     },
     "execution_count": 8,
     "metadata": {},
     "output_type": "execute_result"
    }
   ],
   "source": [
    "#Let's apply our function to the text data\n",
    "\n",
    "df['text']= df['text'].apply(lambda x: text_preprocessing(x))\n",
    "df.head(20)"
   ]
  },
  {
   "cell_type": "code",
   "execution_count": 9,
   "id": "a5165a07",
   "metadata": {},
   "outputs": [
    {
     "data": {
      "text/html": [
       "<div>\n",
       "<style scoped>\n",
       "    .dataframe tbody tr th:only-of-type {\n",
       "        vertical-align: middle;\n",
       "    }\n",
       "\n",
       "    .dataframe tbody tr th {\n",
       "        vertical-align: top;\n",
       "    }\n",
       "\n",
       "    .dataframe thead th {\n",
       "        text-align: right;\n",
       "    }\n",
       "</style>\n",
       "<table border=\"1\" class=\"dataframe\">\n",
       "  <thead>\n",
       "    <tr style=\"text-align: right;\">\n",
       "      <th></th>\n",
       "      <th>target</th>\n",
       "      <th>text_keywords</th>\n",
       "    </tr>\n",
       "  </thead>\n",
       "  <tbody>\n",
       "    <tr>\n",
       "      <th>0</th>\n",
       "      <td>1</td>\n",
       "      <td>wholesale market ablaze ablaze</td>\n",
       "    </tr>\n",
       "    <tr>\n",
       "      <th>1</th>\n",
       "      <td>0</td>\n",
       "      <td>we always try bring heavy metal rt ablaze</td>\n",
       "    </tr>\n",
       "    <tr>\n",
       "      <th>2</th>\n",
       "      <td>1</td>\n",
       "      <td>africanbaze breaking newsnigeria flag set ablaze aba ablaze</td>\n",
       "    </tr>\n",
       "    <tr>\n",
       "      <th>3</th>\n",
       "      <td>0</td>\n",
       "      <td>cry set ablaze ablaze</td>\n",
       "    </tr>\n",
       "    <tr>\n",
       "      <th>4</th>\n",
       "      <td>0</td>\n",
       "      <td>on plus side look at the sky last night it was ablaze ablaze</td>\n",
       "    </tr>\n",
       "    <tr>\n",
       "      <th>...</th>\n",
       "      <td>...</td>\n",
       "      <td>...</td>\n",
       "    </tr>\n",
       "    <tr>\n",
       "      <th>5075</th>\n",
       "      <td>0</td>\n",
       "      <td>on bright side i wrecked wrecked</td>\n",
       "    </tr>\n",
       "    <tr>\n",
       "      <th>5076</th>\n",
       "      <td>0</td>\n",
       "      <td>he gone you relax i thought wife wrecked cake goner mind lol whoop wrecked</td>\n",
       "    </tr>\n",
       "    <tr>\n",
       "      <th>5077</th>\n",
       "      <td>0</td>\n",
       "      <td>three day work theyve pretty much wrecked hahaha shoutout family one wrecked</td>\n",
       "    </tr>\n",
       "    <tr>\n",
       "      <th>5078</th>\n",
       "      <td>0</td>\n",
       "      <td>fx forex trading cramer igers 3 word wrecked disney stock wrecked</td>\n",
       "    </tr>\n",
       "    <tr>\n",
       "      <th>5079</th>\n",
       "      <td>0</td>\n",
       "      <td>great atmosphere british lion gig tonight hearing wrecked wrecked</td>\n",
       "    </tr>\n",
       "  </tbody>\n",
       "</table>\n",
       "<p>5080 rows × 2 columns</p>\n",
       "</div>"
      ],
      "text/plain": [
       "      target  \\\n",
       "0          1   \n",
       "1          0   \n",
       "2          1   \n",
       "3          0   \n",
       "4          0   \n",
       "...      ...   \n",
       "5075       0   \n",
       "5076       0   \n",
       "5077       0   \n",
       "5078       0   \n",
       "5079       0   \n",
       "\n",
       "                                                                     text_keywords  \n",
       "0                                                   wholesale market ablaze ablaze  \n",
       "1                                        we always try bring heavy metal rt ablaze  \n",
       "2                      africanbaze breaking newsnigeria flag set ablaze aba ablaze  \n",
       "3                                                            cry set ablaze ablaze  \n",
       "4                     on plus side look at the sky last night it was ablaze ablaze  \n",
       "...                                                                            ...  \n",
       "5075                                              on bright side i wrecked wrecked  \n",
       "5076    he gone you relax i thought wife wrecked cake goner mind lol whoop wrecked  \n",
       "5077  three day work theyve pretty much wrecked hahaha shoutout family one wrecked  \n",
       "5078             fx forex trading cramer igers 3 word wrecked disney stock wrecked  \n",
       "5079             great atmosphere british lion gig tonight hearing wrecked wrecked  \n",
       "\n",
       "[5080 rows x 2 columns]"
      ]
     },
     "execution_count": 9,
     "metadata": {},
     "output_type": "execute_result"
    }
   ],
   "source": [
    "#Merging 'text' and 'keyword' columns\n",
    "\n",
    "df['text_keywords'] = df['text'] + ' ' + df['keyword']\n",
    "df = df.drop(columns = ['keyword','text'])\n",
    "df"
   ]
  },
  {
   "cell_type": "markdown",
   "id": "5b787268",
   "metadata": {},
   "source": [
    "## Modeling"
   ]
  },
  {
   "cell_type": "code",
   "execution_count": 10,
   "id": "b1632ef7",
   "metadata": {},
   "outputs": [
    {
     "data": {
      "text/plain": [
       "((3556, 9072), (1524, 9072))"
      ]
     },
     "execution_count": 10,
     "metadata": {},
     "output_type": "execute_result"
    }
   ],
   "source": [
    "#Train-test split and CountVectorizer application\n",
    "\n",
    "X = df['text_keywords']\n",
    "y = df['target']\n",
    "\n",
    "X_train, X_test, y_train, y_test = train_test_split(X, y, test_size= 0.3, random_state= 20)\n",
    "\n",
    "count_vect = CountVectorizer()\n",
    "\n",
    "X_train_counts = count_vect.fit_transform(X_train)\n",
    "X_test_counts = count_vect.transform(X_test)\n",
    "\n",
    "X_train_counts.shape, X_test_counts.shape"
   ]
  },
  {
   "cell_type": "markdown",
   "id": "04494b0a",
   "metadata": {},
   "source": [
    ">### Now let's make a classification with the help of Logistic Regression, multinomial Naive Bayes classifier, and Random Forest Classifier. \n",
    ">### We are going to evaluate them with the help of a classification report which contains precision, recall, f1-score, and accuracy.\n",
    ">### Also, let's build a confusion matrix for each model."
   ]
  },
  {
   "cell_type": "code",
   "execution_count": 11,
   "id": "d6ee52bc",
   "metadata": {},
   "outputs": [],
   "source": [
    "def class_models(model, Xtrain, Xtest, ytrain, ytest):\n",
    "    \n",
    "    model.fit(Xtrain, ytrain)\n",
    "    ypred = model.predict(Xtest)\n",
    "    cm = confusion_matrix(ytest, ypred, labels = model.classes_)\n",
    "    disp = ConfusionMatrixDisplay(confusion_matrix=cm, display_labels=model.classes_)\n",
    "    fig, ax = plt.subplots(figsize=(8,8))\n",
    "    disp.plot(ax=ax);\n",
    "    \n",
    "    print(classification_report(ytest, ypred))"
   ]
  },
  {
   "cell_type": "code",
   "execution_count": 12,
   "id": "7bebc982",
   "metadata": {},
   "outputs": [
    {
     "name": "stdout",
     "output_type": "stream",
     "text": [
      "              precision    recall  f1-score   support\n",
      "\n",
      "           0       0.79      0.84      0.82       865\n",
      "           1       0.77      0.71      0.74       659\n",
      "\n",
      "    accuracy                           0.79      1524\n",
      "   macro avg       0.78      0.78      0.78      1524\n",
      "weighted avg       0.79      0.79      0.79      1524\n",
      "\n"
     ]
    },
    {
     "data": {
      "image/png": "[encoded data removed]",
      "text/plain": [
       "<Figure size 576x576 with 2 Axes>"
      ]
     },
     "metadata": {
      "needs_background": "light"
     },
     "output_type": "display_data"
    }
   ],
   "source": [
    "#Logistic Regression\n",
    "\n",
    "lr = LogisticRegression()\n",
    "\n",
    "class_models(lr, X_train_counts, X_test_counts, y_train, y_test)"
   ]
  },
  {
   "cell_type": "code",
   "execution_count": 13,
   "id": "42b52c4b",
   "metadata": {},
   "outputs": [
    {
     "name": "stdout",
     "output_type": "stream",
     "text": [
      "              precision    recall  f1-score   support\n",
      "\n",
      "           0       0.81      0.84      0.82       865\n",
      "           1       0.78      0.75      0.76       659\n",
      "\n",
      "    accuracy                           0.80      1524\n",
      "   macro avg       0.80      0.79      0.79      1524\n",
      "weighted avg       0.80      0.80      0.80      1524\n",
      "\n"
     ]
    },
    {
     "data": {
      "image/png": "[encoded data removed]",
      "text/plain": [
       "<Figure size 576x576 with 2 Axes>"
      ]
     },
     "metadata": {
      "needs_background": "light"
     },
     "output_type": "display_data"
    }
   ],
   "source": [
    "#Multinomial Naive Bayes classifier\n",
    "\n",
    "nb = MultinomialNB()\n",
    "class_models(nb, X_train_counts, X_test_counts, y_train, y_test)"
   ]
  },
  {
   "cell_type": "code",
   "execution_count": 14,
   "id": "d1ce2fcf",
   "metadata": {},
   "outputs": [
    {
     "name": "stdout",
     "output_type": "stream",
     "text": [
      "              precision    recall  f1-score   support\n",
      "\n",
      "           0       0.76      0.88      0.81       865\n",
      "           1       0.80      0.63      0.71       659\n",
      "\n",
      "    accuracy                           0.77      1524\n",
      "   macro avg       0.78      0.76      0.76      1524\n",
      "weighted avg       0.78      0.77      0.77      1524\n",
      "\n"
     ]
    },
    {
     "data": {
      "image/png": "[encoded data removed]",
      "text/plain": [
       "<Figure size 576x576 with 2 Axes>"
      ]
     },
     "metadata": {
      "needs_background": "light"
     },
     "output_type": "display_data"
    }
   ],
   "source": [
    "#Random Forest Classifier\n",
    "\n",
    "rf = RandomForestClassifier()\n",
    "class_models(rf, X_train_counts, X_test_counts, y_train, y_test)"
   ]
  },
  {
   "cell_type": "markdown",
   "id": "befa3593",
   "metadata": {},
   "source": [
    "> ### Conclusion: Multinomial Naive Bayes classifier helped us to reach the accuracy of 0.8. Although it is meant for multiclass classification tasks, it also worked very well for this binary classification."
   ]
  },
  {
   "cell_type": "code",
   "execution_count": null,
   "id": "034b8fc4",
   "metadata": {},
   "outputs": [],
   "source": []
  }
 ],
 "metadata": {
  "kernelspec": {
   "display_name": "Python 3 (ipykernel)",
   "language": "python",
   "name": "python3"
  },
  "language_info": {
   "codemirror_mode": {
    "name": "ipython",
    "version": 3
   },
   "file_extension": ".py",
   "mimetype": "text/x-python",
   "name": "python",
   "nbconvert_exporter": "python",
   "pygments_lexer": "ipython3",
   "version": "3.9.12"
  }
 },
 "nbformat": 4,
 "nbformat_minor": 5
}
